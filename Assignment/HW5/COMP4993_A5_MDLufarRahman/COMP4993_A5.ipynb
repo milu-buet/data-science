{
 "cells": [
  {
   "cell_type": "markdown",
   "metadata": {},
   "source": [
    "## COMP 4/6993.  Fall 2018. Assignment 5\n",
    "\n",
    "### Due:  Wednesday, November 14 (before class starts)\n",
    "\n",
    "### Md Lutfar Rahman"
   ]
  },
  {
   "cell_type": "markdown",
   "metadata": {},
   "source": [
    "#### (1) Compare the performance of 3 methods (Nearest Centroid, KNearest Neighbor and DecisionTree) in predicting species of iris.  Use precision and recall as performance measures. Use 10-Fold cross validation (50 points)\n"
   ]
  },
  {
   "cell_type": "code",
   "execution_count": 1,
   "metadata": {},
   "outputs": [],
   "source": [
    "from solution import *"
   ]
  },
  {
   "cell_type": "markdown",
   "metadata": {},
   "source": [
    "ANS(1)"
   ]
  },
  {
   "cell_type": "code",
   "execution_count": 2,
   "metadata": {},
   "outputs": [
    {
     "name": "stdout",
     "output_type": "stream",
     "text": [
      "\n",
      "          Classifier           Precision              Recall\n",
      "\n",
      "     NearestCentroid                0.73                0.77\n",
      "                 KNN                0.77                 0.8\n",
      "        DecisionTree                0.77                 0.8\n"
     ]
    }
   ],
   "source": [
    "Q1()"
   ]
  },
  {
   "cell_type": "markdown",
   "metadata": {},
   "source": [
    "#### (2) Compare the performance of DecisionTree in predicting species of iris, at various values of max_depth and min_sample_leaves.  Use precision and recall as performance measures.  Use 10-Fold cross validation.  (50 points)\n"
   ]
  },
  {
   "cell_type": "code",
   "execution_count": 3,
   "metadata": {},
   "outputs": [
    {
     "name": "stdout",
     "output_type": "stream",
     "text": [
      "\n",
      "                 MaxDepth         MinSamplesLeaves                Precision                   Recall\n",
      "\n",
      "                        4                        3                     0.76                      0.8\n",
      "                        4                        4                     0.72                     0.75\n",
      "                        4                        5                     0.72                     0.75\n",
      "                        5                        3                     0.76                      0.8\n",
      "                        5                        4                     0.72                     0.75\n",
      "                        5                        5                     0.72                     0.75\n",
      "                        6                        3                     0.76                      0.8\n",
      "                        6                        4                     0.72                     0.75\n",
      "                        6                        5                     0.72                     0.75\n"
     ]
    }
   ],
   "source": [
    "Q2()"
   ]
  },
  {
   "cell_type": "markdown",
   "metadata": {},
   "source": [
    "\n",
    "\n",
    "\n",
    "**How to turn in your assignment**\n",
    "If your name is John Smith, for Assignment 5, you should turn in a zipped folder named: COMP4993_A5_SmithJohn.zip\n",
    "\n",
    "Turn in your jupyter notebook. If you have external Python code, put it in a zipped folder together with your Jupyter notebook. You may want to demonstrate the utility call your code in the notebook.\n",
    "\n",
    "Upload your submission to the Assignment 5 folder in the eCourseware Dropbox.\n",
    "\n",
    "**Please read carefully the plagiarism policy described in the syllabus**\n",
    "\n",
    "** If you have any question, please contact the TA (dpham2@memphis.edu) ** \n",
    "\n"
   ]
  }
 ],
 "metadata": {
  "kernelspec": {
   "display_name": "Python 3",
   "language": "python",
   "name": "python3"
  },
  "language_info": {
   "codemirror_mode": {
    "name": "ipython",
    "version": 3
   },
   "file_extension": ".py",
   "mimetype": "text/x-python",
   "name": "python",
   "nbconvert_exporter": "python",
   "pygments_lexer": "ipython3",
   "version": "3.6.6"
  }
 },
 "nbformat": 4,
 "nbformat_minor": 2
}
