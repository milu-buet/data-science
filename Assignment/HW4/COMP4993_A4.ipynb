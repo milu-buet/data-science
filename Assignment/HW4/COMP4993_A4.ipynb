{
 "cells": [
  {
   "cell_type": "markdown",
   "metadata": {},
   "source": [
    "## COMP 4/6993.  Fall 2018. Assignment 4\n",
    "\n",
    "### Due:  Monday, October 29, 2018 (before class starts)\n",
    "\n",
    "In this assignment, we will use clustering to analyze a dataset that has information about items sold over a period of 51 weeks.\n",
    "\n",
    "The dataset is available here: http://archive.ics.uci.edu/ml/machine-learning-databases/00396/\n",
    "\n",
    "The description of the dataset is here: http://archive.ics.uci.edu/ml/datasets/Sales_Transactions_Dataset_Weekly\n"
   ]
  },
  {
   "cell_type": "code",
   "execution_count": 1,
   "metadata": {},
   "outputs": [],
   "source": [
    "from main import *"
   ]
  },
  {
   "cell_type": "markdown",
   "metadata": {},
   "source": [
    "#### (1) Choose a set of features from this dataset and build a model (with KMeans).  Explain why you chose those features.  Include your code here. (25 points)\n"
   ]
  },
  {
   "cell_type": "markdown",
   "metadata": {},
   "source": [
    "## ANS(1)\n",
    "I used first 51 week to get rand score on 52nd week with k=3. It appears that using 'W's gives better score than Normalized values in KMeans."
   ]
  },
  {
   "cell_type": "code",
   "execution_count": 2,
   "metadata": {},
   "outputs": [
    {
     "name": "stdout",
     "output_type": "stream",
     "text": [
      "Using Ws: 0.1390011257338058\n",
      "Using Normalizeds: 0.09563276926219079\n"
     ]
    }
   ],
   "source": [
    "Q1()"
   ]
  },
  {
   "cell_type": "markdown",
   "metadata": {},
   "source": [
    "#### (2) For various values of k, evaluate the performance of KMeans using the silhouette score.  Based on this, what is the most reasonable value of k?  Show your code. (25 points)\n"
   ]
  },
  {
   "cell_type": "markdown",
   "metadata": {},
   "source": [
    "## ANS(2)\n",
    "It appears that k=2 has the best silhouette score. So, k=2 is the most reasonable value."
   ]
  },
  {
   "cell_type": "code",
   "execution_count": 3,
   "metadata": {},
   "outputs": [
    {
     "name": "stdout",
     "output_type": "stream",
     "text": [
      "Iteration 0\n",
      "Iteration 1\n",
      "Iteration 2\n",
      "k =  2 silhouette =  0.7394353835008549\n",
      "Iteration 0\n",
      "Iteration 1\n",
      "Iteration 2\n",
      "k =  3 silhouette =  0.6157636699570443\n",
      "Iteration 0\n",
      "Iteration 1\n",
      "Iteration 2\n",
      "Iteration 3\n",
      "k =  4 silhouette =  0.572371293029232\n",
      "Iteration 0\n",
      "Iteration 1\n",
      "Iteration 2\n",
      "Iteration 3\n",
      "k =  5 silhouette =  0.5004580684574292\n",
      "Iteration 0\n",
      "Iteration 1\n",
      "Iteration 2\n",
      "Iteration 3\n",
      "Iteration 4\n",
      "k =  6 silhouette =  0.4292776792200647\n",
      "Iteration 0\n",
      "Iteration 1\n",
      "Iteration 2\n",
      "Iteration 3\n",
      "Iteration 4\n",
      "Iteration 5\n",
      "k =  7 silhouette =  0.38060381494964846\n",
      "Iteration 0\n",
      "Iteration 1\n",
      "Iteration 2\n",
      "Iteration 3\n",
      "Iteration 4\n",
      "Iteration 5\n",
      "k =  8 silhouette =  0.3674918036077514\n",
      "Iteration 0\n",
      "Iteration 1\n",
      "Iteration 2\n",
      "Iteration 3\n",
      "Iteration 4\n",
      "Iteration 5\n",
      "k =  9 silhouette =  0.2966383416436634\n"
     ]
    }
   ],
   "source": [
    "Q2()"
   ]
  },
  {
   "cell_type": "markdown",
   "metadata": {},
   "source": [
    "#### (3) Write your own Python function that finds the cluster with the smallest silhouette score.  (25 points)"
   ]
  },
  {
   "cell_type": "markdown",
   "metadata": {},
   "source": [
    "## ANS(3)"
   ]
  },
  {
   "cell_type": "code",
   "execution_count": 4,
   "metadata": {},
   "outputs": [
    {
     "name": "stdout",
     "output_type": "stream",
     "text": [
      "Iteration 0\n",
      "Iteration 1\n",
      "Iteration 2\n",
      "\n",
      "Minimum silhoutte cluster details:\n",
      "minimun silhoutte: 0.5556931541843627\n",
      "# points:  145\n",
      "Cluster Centroid: [31.85517241379311, 33.07586206896552, 34.08275862068969, 35.731034482758616, 34.282758620689656, 33.75172413793101, 35.11724137931032, 34.08965517241379, 35.613793103448266, 34.641379310344824, 35.73793103448277, 34.317241379310346, 35.386206896551734, 34.896551724137936, 35.296551724137935, 36.12413793103448, 36.551724137931046, 34.951724137931045, 35.61379310344825, 34.27586206896553, 35.18620689655171, 33.89655172413792, 34.22068965517242, 33.14482758620691, 32.00000000000003, 25.496551724137937, 24.682758620689654, 25.358620689655172, 26.517241379310345, 26.586206896551726, 27.613793103448277, 26.993103448275864, 27.90344827586207, 28.344827586206897, 28.26896551724138, 28.344827586206897, 28.565517241379318, 28.648275862068967, 29.358620689655172, 28.22758620689655, 29.158620689655173, 29.26896551724138, 29.889655172413793, 29.53103448275862, 29.751724137931035, 30.2, 30.682758620689654, 30.110344827586207, 29.66896551724138, 29.144827586206898, 27.565517241379304, 24.137931034482758]\n"
     ]
    }
   ],
   "source": [
    "Q3()"
   ]
  },
  {
   "cell_type": "markdown",
   "metadata": {},
   "source": [
    "#### (4) Describe a cluster that you think are most interesting.  (25 points)"
   ]
  },
  {
   "cell_type": "markdown",
   "metadata": {},
   "source": [
    "## ANS(4)\n",
    "I think the most interesting cluster is the one having highest silhoutte score as well as higest nukber of points as well."
   ]
  },
  {
   "cell_type": "code",
   "execution_count": 5,
   "metadata": {},
   "outputs": [
    {
     "name": "stdout",
     "output_type": "stream",
     "text": [
      "Iteration 0\n",
      "Iteration 1\n",
      "Iteration 2\n",
      "\n",
      "Maximum silhoutte cluster details:\n",
      "Maximum silhoutte: 0.7794393223160071\n",
      "# points:  666\n",
      "Cluster Centroid: [3.9054054054054053, 3.915915915915918, 4.013513513513513, 4.054054054054054, 4.195195195195193, 4.178678678678678, 4.1906906906906825, 4.250750750750753, 4.160660660660663, 4.247747747747749, 4.141141141141143, 4.313813813813818, 4.2627627627627565, 4.198198198198194, 4.3798798798798835, 4.367867867867868, 4.259759759759765, 4.4519519519519495, 4.432432432432432, 4.2822822822822895, 4.333333333333336, 4.444444444444447, 4.608108108108111, 4.792792792792801, 5.412912912912915, 5.2777777777777795, 3.0900900900900887, 3.2387387387387396, 3.2177177177177185, 3.14864864864865, 3.25225225225225, 3.390390390390389, 3.3738738738738725, 3.456456456456455, 3.578078078078078, 3.5675675675675684, 3.5405405405405403, 3.5945945945945947, 3.656156156156155, 3.5540540540540535, 3.615615615615615, 3.6621621621621623, 3.714714714714715, 3.6996996996997, 3.7927927927927927, 3.843843843843844, 3.9384384384384385, 4.003003003003002, 4.103603603603605, 4.486486486486482, 4.789789789789791, 5.569069069069067]\n"
     ]
    }
   ],
   "source": [
    "Q4()"
   ]
  },
  {
   "cell_type": "markdown",
   "metadata": {},
   "source": [
    "\n",
    "\n",
    "\n",
    "**How to turn in your assignment**\n",
    "If your name is John Smith, for Assignment 4, you should turn in a zipped folder named: COMP4993_A4_SmithJohn.zip\n",
    "\n",
    "Turn in your jupyter notebook. If you have external Python code, put it in a zipped folder together with your Jupyter notebook. You may want to demonstrate the utility call your code in the notebook.\n",
    "\n",
    "Upload your submission to the Assignment 4 folder in the eCourseware Dropbox.\n",
    "\n",
    "**Please read carefully the plagiarism policy described in the syllabus**\n",
    "\n",
    "** If you have any question, please contact the TA (dpham2@memphis.edu) ** \n",
    "\n"
   ]
  }
 ],
 "metadata": {
  "kernelspec": {
   "display_name": "Python 3",
   "language": "python",
   "name": "python3"
  },
  "language_info": {
   "codemirror_mode": {
    "name": "ipython",
    "version": 3
   },
   "file_extension": ".py",
   "mimetype": "text/x-python",
   "name": "python",
   "nbconvert_exporter": "python",
   "pygments_lexer": "ipython3",
   "version": "3.6.6"
  }
 },
 "nbformat": 4,
 "nbformat_minor": 2
}
