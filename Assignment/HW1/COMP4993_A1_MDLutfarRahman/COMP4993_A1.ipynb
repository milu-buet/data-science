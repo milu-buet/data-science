{
 "cells": [
  {
   "cell_type": "markdown",
   "metadata": {},
   "source": [
    "**COMP 4/6993.  Fall 2018. Assignment 1**\n",
    "\n",
    "**Due: Monday 09/17/2018 (before class starts)**\n",
    "## Md Lutfar Rahman\n",
    "## mrahman9@memphis.edu\n",
    "\n",
    "The phone_data.csv has 7 columns names index, date, duration, item, month, network, network type.\n",
    "\n",
    "Look at the phone_data.csv and write Python scripts to answer questions. \n",
    "\n",
    "**Pandas package is not allowed in this assignment.**"
   ]
  },
  {
   "cell_type": "markdown",
   "metadata": {},
   "source": [
    "(1) What are the longest and shortest phone calls? (10 points)\n",
    "\n",
    "Your code should return the index, date, duration, item, month, network, network type of the longest and shortest phone calls."
   ]
  },
  {
   "cell_type": "code",
   "execution_count": 1,
   "metadata": {},
   "outputs": [],
   "source": [
    "from solution import *\n",
    "table = Table([], [], PHONE_DATA)"
   ]
  },
  {
   "cell_type": "code",
   "execution_count": 2,
   "metadata": {},
   "outputs": [
    {
     "name": "stdout",
     "output_type": "stream",
     "text": [
      "(1) What are the longest phone calls?:\n",
      "                         index           date       duration           item          month        network   network_type\n",
      "                            59 23/10/14 08:34         1940.0           call        2014-11       landline       landline\n",
      "\n",
      "(1) What are the shortest phone calls?:\n",
      "                         index           date       duration           item          month        network   network_type\n",
      "                           599 16/01/15 09:45            1.0           call        2015-02         Meteor         mobile\n"
     ]
    }
   ],
   "source": [
    "# Write/import your code here\n",
    "print(\"(1) What are the longest phone calls?:\")\n",
    "table.get_longest_phone_call().show()\n",
    "\n",
    "print(\"\")\n",
    "\n",
    "print(\"(1) What are the shortest phone calls?:\")\n",
    "table.get_shortest_phone_call().show()\n",
    "\n",
    "\n"
   ]
  },
  {
   "cell_type": "markdown",
   "metadata": {},
   "source": [
    "(2) \n",
    "(A) How many phone calls of each network? (10 points)\n",
    "\n",
    "(B) How many messages of each network? (10 points)\n",
    "    \n",
    "Your code should return number of phone calls and messages of each network."
   ]
  },
  {
   "cell_type": "code",
   "execution_count": 3,
   "metadata": {},
   "outputs": [
    {
     "name": "stdout",
     "output_type": "stream",
     "text": [
      "(2) (A) How many phone calls of each network?\n",
      "(2) (A) How many messages of each network?\n",
      "                       network    phone_calls            sms\n",
      "                      Vodafone             30             81\n",
      "                         Tesco             34              6\n",
      "                         Three             57             43\n",
      "                     voicemail             12              0\n",
      "                        Meteor             24             14\n",
      "                          data              0              0\n",
      "                      landline             23              0\n",
      "                       special              0              1\n",
      "                         world              0              4\n"
     ]
    }
   ],
   "source": [
    "# Write/import your code here\n",
    "print(\"(2) (A) How many phone calls of each network?\")\n",
    "print(\"(2) (A) How many messages of each network?\")     \n",
    "table.get_phone_calls_massages_of_each_network().show()\n",
    "\n"
   ]
  },
  {
   "cell_type": "markdown",
   "metadata": {},
   "source": [
    "(3) What are the longest phone calls of each network? (10 points)\n",
    "\n",
    "Your code should return the index, date, duration, item, month, network, network type of the longest phone calls of each network."
   ]
  },
  {
   "cell_type": "code",
   "execution_count": 4,
   "metadata": {},
   "outputs": [
    {
     "name": "stdout",
     "output_type": "stream",
     "text": [
      "(3) What are the longest phone calls of each network?\n",
      "                         index           date       duration           item          month        network   network_type\n",
      "                           809   3/3/15 14:34         1325.0           call        2015-03       Vodafone         mobile\n",
      "                           105 31/10/14 13:27         1234.0           call        2014-11          Tesco         mobile\n",
      "                            31 18/10/14 13:10         1714.0           call        2014-11          Three         mobile\n",
      "                           137  4/11/14 14:26           98.0           call        2014-11      voicemail      voicemail\n",
      "                           423 20/12/14 15:53          553.0           call        2015-01         Meteor         mobile\n",
      "                            59 23/10/14 08:34         1940.0           call        2014-11       landline       landline\n"
     ]
    }
   ],
   "source": [
    "# Write/import your code here\n",
    "print(\"(3) What are the longest phone calls of each network?\")\n",
    "table.get_longest_phone_call_of_each_network().show()\n",
    "\n"
   ]
  },
  {
   "cell_type": "markdown",
   "metadata": {},
   "source": [
    "(4) \n",
    "\n",
    "(A) Which month has the most number of phone calls? (10 points)\n",
    " \n",
    "(B) Which month has the most number of messages? (10 points)\n",
    "    \n",
    "Your code should return month and the most number of phone calls and messages in each month."
   ]
  },
  {
   "cell_type": "code",
   "execution_count": 5,
   "metadata": {},
   "outputs": [
    {
     "name": "stdout",
     "output_type": "stream",
     "text": [
      "(4) (A) Which month has the most number of phone calls?\n",
      "                         month     call count\n",
      "                       2014-11             50\n",
      "(4) (B) Which month has the most number of messages?\n",
      "                         month      sms count\n",
      "                       2014-11             51\n"
     ]
    }
   ],
   "source": [
    "# Write/import your code here\n",
    "print(\"(4) (A) Which month has the most number of phone calls?\")\n",
    "table.get_most_phone_call_month().show()\n",
    "\n",
    "print(\"(4) (B) Which month has the most number of messages?\")\n",
    "table.get_most_massages_month().show()\n",
    "\n"
   ]
  },
  {
   "cell_type": "markdown",
   "metadata": {},
   "source": [
    "(5) \n",
    "(A) Which day has the most number of phone calls? (10 points)\n",
    "    \n",
    "(B) Which day has the most number of messages? (10 points)\n",
    "    \n",
    "Your code should return date and the most number of phone calls and messages that day."
   ]
  },
  {
   "cell_type": "code",
   "execution_count": 6,
   "metadata": {},
   "outputs": [
    {
     "name": "stdout",
     "output_type": "stream",
     "text": [
      "(5) (A) Which day has the most number of phone calls\n",
      "                           Day     call count\n",
      "                      21/11/14              5\n",
      "\n",
      "(5) (B) Which day has the most number of messages?\n",
      "                           Day      sms count\n",
      "                      30/12/14             10\n"
     ]
    }
   ],
   "source": [
    "# Write/import your code here\n",
    "print(\"(5) (A) Which day has the most number of phone calls\")\n",
    "table.get_most_phone_call_day().show()\n",
    "\n",
    "print(\"\")\n",
    "\n",
    "print(\"(5) (B) Which day has the most number of messages?\")\n",
    "table.get_most_massage_day().show()\n",
    "\n"
   ]
  },
  {
   "cell_type": "markdown",
   "metadata": {},
   "source": [
    "(6) How many phone calls and messages of each network in each month? (20 points)\n",
    "\n",
    "Your code should return month, network, number of phone calls and number of messages."
   ]
  },
  {
   "cell_type": "code",
   "execution_count": 7,
   "metadata": {},
   "outputs": [
    {
     "name": "stdout",
     "output_type": "stream",
     "text": [
      "(6) How many phone calls and messages of each network in each month?\n",
      "                       network          month          calls            sms\n",
      "                      Vodafone        2014-11             10             32\n",
      "                      Vodafone        2014-12              4             10\n",
      "                      Vodafone        2015-01              8             20\n",
      "                      Vodafone        2015-02              2             13\n",
      "                      Vodafone        2015-03              6              6\n",
      "                                                                           \n",
      "                         Tesco        2014-11              8              2\n",
      "                         Tesco        2014-12              6              0\n",
      "                         Tesco        2015-01              7              1\n",
      "                         Tesco        2015-02             11              1\n",
      "                         Tesco        2015-03              2              2\n",
      "                                                                           \n",
      "                         Three        2014-11             20             12\n",
      "                         Three        2014-12             13              7\n",
      "                         Three        2015-01             11             17\n",
      "                         Three        2015-02              9              5\n",
      "                         Three        2015-03              4              2\n",
      "                                                                           \n",
      "                     voicemail        2014-11              3              0\n",
      "                     voicemail        2014-12              4              0\n",
      "                     voicemail        2015-02              4              0\n",
      "                     voicemail        2015-03              1              0\n",
      "                                                                           \n",
      "                        Meteor        2014-11              5              4\n",
      "                        Meteor        2014-12              6              6\n",
      "                        Meteor        2015-01             10              4\n",
      "                        Meteor        2015-02              1              0\n",
      "                        Meteor        2015-03              2              0\n",
      "                                                                           \n",
      "                          data        2014-11              0              0\n",
      "                          data        2014-12              0              0\n",
      "                          data        2015-01              0              0\n",
      "                          data        2015-02              0              0\n",
      "                          data        2015-03              0              0\n",
      "                                                                           \n",
      "                      landline        2014-11              4              0\n",
      "                      landline        2014-12              4              0\n",
      "                      landline        2015-01              8              0\n",
      "                      landline        2015-02              2              0\n",
      "                      landline        2015-03              5              0\n",
      "                                                                           \n",
      "                       special        2014-11              0              1\n",
      "                                                                           \n",
      "                         world        2014-12              0              2\n",
      "                         world        2015-03              0              2\n",
      "                                                                           \n"
     ]
    }
   ],
   "source": [
    "# Write/import your code here\n",
    "print(\"(6) How many phone calls and messages of each network in each month?\")\n",
    "table.get_phn_call_msg_in_each_network_month().show()\n"
   ]
  },
  {
   "cell_type": "markdown",
   "metadata": {},
   "source": [
    "\n",
    "\n",
    "\n",
    "**How to turn in your assignment**\n",
    "If your name is John Smith, for Assignment 1, you should turn in a zipped folder named: COMP4993_A1_SmithJohn.zip\n",
    "\n",
    "The zipped folder should consist of two things: (1) a jupyter notebook and (2) Python code described in the notebook. You may want to demonstrate the utility call your code in the notebook.\n",
    "\n",
    "Upload your submission to the Assignment 1 folder in the eCourseware Dropbox.\n",
    "\n",
    "**Please read carefully the plagiarism policy described in the syllabus**\n",
    "\n"
   ]
  }
 ],
 "metadata": {
  "kernelspec": {
   "display_name": "Python 3",
   "language": "python",
   "name": "python3"
  },
  "language_info": {
   "codemirror_mode": {
    "name": "ipython",
    "version": 3
   },
   "file_extension": ".py",
   "mimetype": "text/x-python",
   "name": "python",
   "nbconvert_exporter": "python",
   "pygments_lexer": "ipython3",
   "version": "3.6.5"
  }
 },
 "nbformat": 4,
 "nbformat_minor": 2
}
