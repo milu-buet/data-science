{
 "cells": [
  {
   "cell_type": "markdown",
   "metadata": {},
   "source": [
    "## COMP 4/6993.  Fall 2018. Assignment 2\n",
    "\n",
    "### Due: Monday 09/24/2018 (before class starts)\n",
    "\n",
    "In this assignment, we will do more practices with Pandas package using the same movielens dataset in class. You can review what you can do with Pandas series here: http://pandas.pydata.org/pandas-docs/stable/generated/pandas.Series.html \n",
    "\n",
    "You can read the description of movielens dataset [here](http://files.grouplens.org/datasets/movielens/ml-1m-README.txt).\n"
   ]
  },
  {
   "cell_type": "markdown",
   "metadata": {},
   "source": [
    "(1) \n",
    "\n",
    "(A) Which movies are most highly rated by Female users? Return top 10 movies. (10 points)\n",
    "\n",
    "(B) Which movies are most highly rated by Male users? Return top 10 movies. (10 points)\n"
   ]
  },
  {
   "cell_type": "code",
   "execution_count": null,
   "metadata": {},
   "outputs": [],
   "source": [
    "# write your code here\n",
    "\n"
   ]
  },
  {
   "cell_type": "markdown",
   "metadata": {},
   "source": [
    "(2) \n",
    "\n",
    "(A) What are the 10 most rated movies for group age 18? (15 points)\n",
    "\n",
    "(B) What are the 10 highest average rating movies for group age 18? (15 points)\n"
   ]
  },
  {
   "cell_type": "code",
   "execution_count": null,
   "metadata": {},
   "outputs": [],
   "source": [
    "# write your code here\n",
    "\n"
   ]
  },
  {
   "cell_type": "markdown",
   "metadata": {},
   "source": [
    "(3) \n",
    "\n",
    "What are the most highly rated Action|Crime|Thriller movies? (10 points)\n",
    "    \n"
   ]
  },
  {
   "cell_type": "code",
   "execution_count": null,
   "metadata": {},
   "outputs": [],
   "source": [
    "# write your code here\n",
    "\n"
   ]
  },
  {
   "cell_type": "markdown",
   "metadata": {},
   "source": [
    "(4) What are the highest average rating movies in \"Comedy|Romance|Thriller\" category? Return top 20 movies. (10 points)\n",
    "    \n"
   ]
  },
  {
   "cell_type": "code",
   "execution_count": null,
   "metadata": {},
   "outputs": [],
   "source": [
    "# write your code here\n",
    "\n"
   ]
  },
  {
   "cell_type": "markdown",
   "metadata": {},
   "source": [
    "(5) \n",
    "\n",
    "For each genre, compare the average rating by female users in group age 18 to the average rating by male users in the same group age. Show the pivot_table. (15 points)"
   ]
  },
  {
   "cell_type": "code",
   "execution_count": null,
   "metadata": {},
   "outputs": [],
   "source": [
    "# write your code here\n",
    "\n"
   ]
  },
  {
   "cell_type": "markdown",
   "metadata": {},
   "source": [
    "(6) \n",
    "\n",
    "For each group age, compare and plot the total reviews done by Female users and Male users. (15 points)\n",
    "    \n"
   ]
  },
  {
   "cell_type": "code",
   "execution_count": null,
   "metadata": {},
   "outputs": [],
   "source": [
    "# write your code here\n",
    "\n"
   ]
  },
  {
   "cell_type": "markdown",
   "metadata": {},
   "source": [
    "**Bonus question**: What other questions about the dataset that are interesting to you but we didn't cover in the class and in this homework? "
   ]
  },
  {
   "cell_type": "markdown",
   "metadata": {},
   "source": []
  },
  {
   "cell_type": "markdown",
   "metadata": {},
   "source": [
    "\n",
    "\n",
    "\n",
    "**How to turn in your assignment**\n",
    "If your name is John Smith, for Assignment 2, you should turn in a zipped folder named: COMP4993_A2_SmithJohn.zip\n",
    "\n",
    "Turn in your jupyter notebook. If you have external Python code, put it in a zipped folder together with your Jupyter notebook. You may want to demonstrate the utility call your code in the notebook.\n",
    "\n",
    "Upload your submission to the Assignment 2 folder in the eCourseware Dropbox.\n",
    "\n",
    "**Please read carefully the plagiarism policy described in the syllabus**\n",
    "\n"
   ]
  }
 ],
 "metadata": {
  "kernelspec": {
   "display_name": "Python 3",
   "language": "python",
   "name": "python3"
  },
  "language_info": {
   "codemirror_mode": {
    "name": "ipython",
    "version": 3
   },
   "file_extension": ".py",
   "mimetype": "text/x-python",
   "name": "python",
   "nbconvert_exporter": "python",
   "pygments_lexer": "ipython3",
   "version": "3.6.4"
  }
 },
 "nbformat": 4,
 "nbformat_minor": 2
}
